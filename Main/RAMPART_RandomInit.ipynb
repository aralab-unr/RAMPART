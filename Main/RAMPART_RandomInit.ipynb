{
 "cells": [
  {
   "cell_type": "code",
   "execution_count": 1,
   "id": "f8465db8",
   "metadata": {},
   "outputs": [
    {
     "name": "stdout",
     "output_type": "stream",
     "text": [
      "C1_L1_H5_W5_N5_O1_E2000_Nw0.9\n",
      "################# Random Initialization Done. #########################\n",
      "################# Please find the pickle file inside RandomPosition folder #########################\n"
     ]
    }
   ],
   "source": [
    "#!/usr/bin/env python3\n",
    "# -*- coding: utf-8 -*-\n",
    "\n",
    "# import essential modules\n",
    "import numpy as np\n",
    "import pickle\n",
    "import sys\n",
    "\n",
    "noTarget = 1 # target will always be one\n",
    "gridHeightList = [int(sys.argv[1])]\n",
    "gridWidthList = [int(sys.argv[1])]\n",
    "noAgentList = [int(sys.argv[2])]\n",
    "noObsList = [int(sys.argv[3])]\n",
    "eList = [int(sys.argv[4])]\n",
    "LoopVal = int(sys.argv[5]) # defines how many times the code will run\n",
    "neighborWeightsList = [float(sys.argv[6])]\n",
    "\n",
    "\n",
    "\n",
    "print(\"C\"+str(len(gridWidthList))+ \"_L\"+str(LoopVal)+\n",
    "              \"_H\"+str(gridHeightList[0])+\"_W\"+str(gridWidthList[0])+\"_N\"+str(noAgentList[0])+\n",
    "              \"_O\"+str(noObsList[0])+\"_E\"+str(eList[0])+\"_Nw\"+str(neighborWeightsList[0]))\n",
    "\n",
    "\n",
    "# initializing the lists\n",
    "tPosList = []\n",
    "aPosList = []\n",
    "aPosListTotal = []\n",
    "aPosListLoopTotal = []\n",
    "aPosListCriteriaTotal = []\n",
    "\n",
    "# finding out the target's position which is the last cell of the grid\n",
    "for t in range(noTarget):\n",
    "    tPosList.append([(int(gridHeightList[0]/(t+1))-1), (int(gridWidthList[0]/(t+1))-1)])\n",
    "\n",
    "# main code\n",
    "for CriteriaVal in range(len(gridWidthList)):\n",
    "    height = gridWidthList[CriteriaVal]\n",
    "    width = gridHeightList[CriteriaVal]\n",
    "    Agent = noAgentList[CriteriaVal]\n",
    "    Obs = noObsList[CriteriaVal]\n",
    "    epoch = eList[CriteriaVal]\n",
    "    neighborWeights = neighborWeightsList[CriteriaVal]\n",
    "\n",
    "    \n",
    "    for Loop in range(LoopVal):\n",
    "        sX =[i for i in range(height-1)]\n",
    "        sY =[i for i in range(width-1)]\n",
    "        for ep in range(0,epoch):\n",
    "            for a in range(Agent):\n",
    "                aPosX = np.random.choice(sX)\n",
    "                aPosY = np.random.choice(sY)\n",
    "                if [aPosX, aPosY] not in tPosList:\n",
    "                    aPosX= aPosX\n",
    "                    aPosY= aPosY\n",
    "                else:\n",
    "                    aPosX = np.random.choice(sX)\n",
    "                    aPosY = np.random.choice(sY)\n",
    "                aPosList.append([aPosX, aPosY])\n",
    "            aPosListTotal.append(aPosList)\n",
    "            aPosList =[]\n",
    "        aPosListLoopTotal.append(aPosListTotal)\n",
    "        aPosListTotal=[]\n",
    "        \n",
    "    p = aPosListLoopTotal\n",
    "    \n",
    "    # saving the positions in a pickle file. C: number of different scenarios, L: number of times the code will run as a loop,\n",
    "    # H: Grid Height, W: Grid Width, N: number of agents, O: number of obstacles, E: Total Episode, Nw: Neighbor weights\n",
    "    with open(\"./RandomPosition/C\"+str(CriteriaVal)+ \"_L\"+str(LoopVal)+\n",
    "              \"_H\"+str(height)+\"_W\"+str(width)+\"_N\"+str(Agent)+\n",
    "              \"_O\"+str(Obs)+\"_E\"+str(epoch)+\"_Nw\"+str(neighborWeights), \"wb\") as Pp:   #Pickling\n",
    "        pickle.dump(p, Pp)\n",
    "        \n",
    "print(\"################# Random Initialization Done. #########################\")\n",
    "print(\"################# Please find the pickle file inside RandomPosition folder #########################\")\n"
   ]
  },
  {
   "cell_type": "code",
   "execution_count": null,
   "id": "a39f8ac4",
   "metadata": {},
   "outputs": [],
   "source": []
  }
 ],
 "metadata": {
  "kernelspec": {
   "display_name": "Python 3 (ipykernel)",
   "language": "python",
   "name": "python3"
  },
  "language_info": {
   "codemirror_mode": {
    "name": "ipython",
    "version": 3
   },
   "file_extension": ".py",
   "mimetype": "text/x-python",
   "name": "python",
   "nbconvert_exporter": "python",
   "pygments_lexer": "ipython3",
   "version": "3.11.3"
  }
 },
 "nbformat": 4,
 "nbformat_minor": 5
}
